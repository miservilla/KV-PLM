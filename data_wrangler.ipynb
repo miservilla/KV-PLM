{
 "cells": [
  {
   "cell_type": "code",
   "execution_count": 3,
   "metadata": {},
   "outputs": [],
   "source": [
    "import pandas as pd"
   ]
  },
  {
   "cell_type": "code",
   "execution_count": 11,
   "metadata": {},
   "outputs": [
    {
     "data": {
      "text/html": [
       "<div>\n",
       "<style scoped>\n",
       "    .dataframe tbody tr th:only-of-type {\n",
       "        vertical-align: middle;\n",
       "    }\n",
       "\n",
       "    .dataframe tbody tr th {\n",
       "        vertical-align: top;\n",
       "    }\n",
       "\n",
       "    .dataframe thead th {\n",
       "        text-align: right;\n",
       "    }\n",
       "</style>\n",
       "<table border=\"1\" class=\"dataframe\">\n",
       "  <thead>\n",
       "    <tr style=\"text-align: right;\">\n",
       "      <th></th>\n",
       "      <th>ChEBI ID</th>\n",
       "      <th>Name</th>\n",
       "      <th>SMILES</th>\n",
       "      <th>Definition</th>\n",
       "    </tr>\n",
       "  </thead>\n",
       "  <tbody>\n",
       "    <tr>\n",
       "      <th>0</th>\n",
       "      <td>CHEBI:30616</td>\n",
       "      <td>ATP(4-)</td>\n",
       "      <td>Nc1ncnc2n(cnc12)[C@@H]1O[C@H](COP([O-])(=O)OP(...</td>\n",
       "      <td>A nucleoside triphosphate(4-) obtained by glob...</td>\n",
       "    </tr>\n",
       "    <tr>\n",
       "      <th>1</th>\n",
       "      <td>CHEBI:64837</td>\n",
       "      <td>N(pros)-phosphonato-L-histidine residue</td>\n",
       "      <td>C(*)(=O)[C@@H](N*)CC=1N(C=NC1)P([O-])(=O)[O-]</td>\n",
       "      <td>An anionic amino-acid residue formed by loss o...</td>\n",
       "    </tr>\n",
       "    <tr>\n",
       "      <th>2</th>\n",
       "      <td>CHEBI:58245</td>\n",
       "      <td>2'-deoxyadenosine 5'-monophosphate(2-)</td>\n",
       "      <td>Nc1ncnc2n(cnc12)[C@H]1C[C@H](O)[C@@H](COP([O-]...</td>\n",
       "      <td>A 2'-deoxyribonucleoside 5'-monophosphate(2-) ...</td>\n",
       "    </tr>\n",
       "    <tr>\n",
       "      <th>3</th>\n",
       "      <td>CHEBI:57673</td>\n",
       "      <td>2'-deoxyguanosine 5'-monophosphate(2-)</td>\n",
       "      <td>Nc1nc2n(cnc2c(=O)[nH]1)[C@H]1C[C@H](O)[C@@H](C...</td>\n",
       "      <td>A 2'-deoxyribonucleoside 5'-monophosphate(2-) ...</td>\n",
       "    </tr>\n",
       "    <tr>\n",
       "      <th>4</th>\n",
       "      <td>CHEBI:58115</td>\n",
       "      <td>guanosine 5'-monophosphate(2-)</td>\n",
       "      <td>Nc1nc2n(cnc2c(=O)[nH]1)[C@@H]1O[C@H](COP([O-])...</td>\n",
       "      <td>A nucleoside 5'-monophosphate(2-) that results...</td>\n",
       "    </tr>\n",
       "    <tr>\n",
       "      <th>...</th>\n",
       "      <td>...</td>\n",
       "      <td>...</td>\n",
       "      <td>...</td>\n",
       "      <td>...</td>\n",
       "    </tr>\n",
       "    <tr>\n",
       "      <th>178</th>\n",
       "      <td>CHEBI:17821</td>\n",
       "      <td>thymine</td>\n",
       "      <td>Cc1c[nH]c(=O)[nH]c1=O</td>\n",
       "      <td>A pyrimidine nucleobase that is uracil in whic...</td>\n",
       "    </tr>\n",
       "    <tr>\n",
       "      <th>179</th>\n",
       "      <td>CHEBI:16708</td>\n",
       "      <td>adenine</td>\n",
       "      <td>Nc1ncnc2[nH]cnc12</td>\n",
       "      <td>The parent compound of the 6-aminopurines, com...</td>\n",
       "    </tr>\n",
       "    <tr>\n",
       "      <th>180</th>\n",
       "      <td>CHEBI:16040</td>\n",
       "      <td>cytosine</td>\n",
       "      <td>Nc1cc[nH]c(=O)n1</td>\n",
       "      <td>An aminopyrimidine that is pyrimidin-2-one hav...</td>\n",
       "    </tr>\n",
       "    <tr>\n",
       "      <th>181</th>\n",
       "      <td>CHEBI:17712</td>\n",
       "      <td>9H-xanthine</td>\n",
       "      <td>O=c1[nH]c2[nH]cnc2c(=O)[nH]1</td>\n",
       "      <td>An oxopurine in which the purine ring is subst...</td>\n",
       "    </tr>\n",
       "    <tr>\n",
       "      <th>182</th>\n",
       "      <td>CHEBI:57947</td>\n",
       "      <td>creatine zwitterion</td>\n",
       "      <td>CN(CC([O-])=O)C(N)=[NH2+]</td>\n",
       "      <td>Zwitterionic form of creatine arising from tra...</td>\n",
       "    </tr>\n",
       "  </tbody>\n",
       "</table>\n",
       "<p>183 rows × 4 columns</p>\n",
       "</div>"
      ],
      "text/plain": [
       "        ChEBI ID                                     Name  \\\n",
       "0    CHEBI:30616                                  ATP(4-)   \n",
       "1    CHEBI:64837  N(pros)-phosphonato-L-histidine residue   \n",
       "2    CHEBI:58245   2'-deoxyadenosine 5'-monophosphate(2-)   \n",
       "3    CHEBI:57673   2'-deoxyguanosine 5'-monophosphate(2-)   \n",
       "4    CHEBI:58115           guanosine 5'-monophosphate(2-)   \n",
       "..           ...                                      ...   \n",
       "178  CHEBI:17821                                  thymine   \n",
       "179  CHEBI:16708                                  adenine   \n",
       "180  CHEBI:16040                                 cytosine   \n",
       "181  CHEBI:17712                              9H-xanthine   \n",
       "182  CHEBI:57947                      creatine zwitterion   \n",
       "\n",
       "                                                SMILES  \\\n",
       "0    Nc1ncnc2n(cnc12)[C@@H]1O[C@H](COP([O-])(=O)OP(...   \n",
       "1        C(*)(=O)[C@@H](N*)CC=1N(C=NC1)P([O-])(=O)[O-]   \n",
       "2    Nc1ncnc2n(cnc12)[C@H]1C[C@H](O)[C@@H](COP([O-]...   \n",
       "3    Nc1nc2n(cnc2c(=O)[nH]1)[C@H]1C[C@H](O)[C@@H](C...   \n",
       "4    Nc1nc2n(cnc2c(=O)[nH]1)[C@@H]1O[C@H](COP([O-])...   \n",
       "..                                                 ...   \n",
       "178                              Cc1c[nH]c(=O)[nH]c1=O   \n",
       "179                                  Nc1ncnc2[nH]cnc12   \n",
       "180                                   Nc1cc[nH]c(=O)n1   \n",
       "181                       O=c1[nH]c2[nH]cnc2c(=O)[nH]1   \n",
       "182                          CN(CC([O-])=O)C(N)=[NH2+]   \n",
       "\n",
       "                                            Definition  \n",
       "0    A nucleoside triphosphate(4-) obtained by glob...  \n",
       "1    An anionic amino-acid residue formed by loss o...  \n",
       "2    A 2'-deoxyribonucleoside 5'-monophosphate(2-) ...  \n",
       "3    A 2'-deoxyribonucleoside 5'-monophosphate(2-) ...  \n",
       "4    A nucleoside 5'-monophosphate(2-) that results...  \n",
       "..                                                 ...  \n",
       "178  A pyrimidine nucleobase that is uracil in whic...  \n",
       "179  The parent compound of the 6-aminopurines, com...  \n",
       "180  An aminopyrimidine that is pyrimidin-2-one hav...  \n",
       "181  An oxopurine in which the purine ring is subst...  \n",
       "182  Zwitterionic form of creatine arising from tra...  \n",
       "\n",
       "[183 rows x 4 columns]"
      ]
     },
     "execution_count": 11,
     "metadata": {},
     "output_type": "execute_result"
    }
   ],
   "source": [
    "df = pd.read_csv('/data_link/servilla/KV-PLM/chebi_name_smiles_definition_183.csv')\n",
    "df_no_names = df\n",
    "df_no_names"
   ]
  },
  {
   "cell_type": "code",
   "execution_count": 13,
   "metadata": {},
   "outputs": [],
   "source": [
    "df_no_names['Definition'] = df_no_names['Name'] + ' ' + df_no_names['Definition']\n"
   ]
  },
  {
   "cell_type": "code",
   "execution_count": 16,
   "metadata": {},
   "outputs": [],
   "source": [
    "df_no_names = df_no_names['Definition']\n",
    "df_no_names = df_no_names.dropna()"
   ]
  },
  {
   "cell_type": "code",
   "execution_count": 15,
   "metadata": {},
   "outputs": [
    {
     "name": "stdout",
     "output_type": "stream",
     "text": [
      "      ChEBI ID                                     Name  \\\n",
      "0  CHEBI:30616                                  ATP(4-)   \n",
      "1  CHEBI:64837  N(pros)-phosphonato-L-histidine residue   \n",
      "2  CHEBI:58245   2'-deoxyadenosine 5'-monophosphate(2-)   \n",
      "3  CHEBI:57673   2'-deoxyguanosine 5'-monophosphate(2-)   \n",
      "4  CHEBI:58115           guanosine 5'-monophosphate(2-)   \n",
      "\n",
      "                                              SMILES  \\\n",
      "0  Nc1ncnc2n(cnc12)[C@@H]1O[C@H](COP([O-])(=O)OP(...   \n",
      "1      C(*)(=O)[C@@H](N*)CC=1N(C=NC1)P([O-])(=O)[O-]   \n",
      "2  Nc1ncnc2n(cnc12)[C@H]1C[C@H](O)[C@@H](COP([O-]...   \n",
      "3  Nc1nc2n(cnc2c(=O)[nH]1)[C@H]1C[C@H](O)[C@@H](C...   \n",
      "4  Nc1nc2n(cnc2c(=O)[nH]1)[C@@H]1O[C@H](COP([O-])...   \n",
      "\n",
      "                                          Definition  \n",
      "0  ATP(4-) A nucleoside triphosphate(4-) obtained...  \n",
      "1  N(pros)-phosphonato-L-histidine residue An ani...  \n",
      "2  2'-deoxyadenosine 5'-monophosphate(2-) A 2'-de...  \n",
      "3  2'-deoxyguanosine 5'-monophosphate(2-) A 2'-de...  \n",
      "4  guanosine 5'-monophosphate(2-) A nucleoside 5'...  \n",
      "Index(['ChEBI ID', 'Name', 'SMILES', 'Definition'], dtype='object')\n"
     ]
    }
   ],
   "source": [
    "print(df_no_names.head())  # Check the first few rows of the DataFrame\n",
    "print(df_no_names.columns)  # Check the column names\n"
   ]
  },
  {
   "cell_type": "code",
   "execution_count": 17,
   "metadata": {},
   "outputs": [],
   "source": [
    "df_no_names.to_csv('/data_link/servilla/KV-PLM/chebi_name_smiles_definition_183_no_names.txt', sep=' ', index=False)\n"
   ]
  }
 ],
 "metadata": {
  "kernelspec": {
   "display_name": "MLG",
   "language": "python",
   "name": "python3"
  },
  "language_info": {
   "codemirror_mode": {
    "name": "ipython",
    "version": 3
   },
   "file_extension": ".py",
   "mimetype": "text/x-python",
   "name": "python",
   "nbconvert_exporter": "python",
   "pygments_lexer": "ipython3",
   "version": "3.8.19"
  }
 },
 "nbformat": 4,
 "nbformat_minor": 2
}
